{
 "cells": [
  {
   "cell_type": "markdown",
   "metadata": {},
   "source": [
    "Import packages"
   ]
  },
  {
   "cell_type": "code",
   "execution_count": 1,
   "metadata": {},
   "outputs": [],
   "source": [
    "import requests\n",
    "from bs4 import BeautifulSoup\n",
    "import os"
   ]
  },
  {
   "cell_type": "markdown",
   "metadata": {},
   "source": [
    "Webscraping from Wikipedia and storing info in a folder"
   ]
  },
  {
   "cell_type": "code",
   "execution_count": null,
   "metadata": {},
   "outputs": [],
   "source": [
    "import requests\n",
    "from bs4 import BeautifulSoup\n",
    "import os\n",
    "\n",
    "def fetch_wikipedia_html(title):\n",
    "    # Fetch the HTML content of a Wikipedia page using the Wikipedia API\n",
    "    URL = f\"https://en.wikipedia.org/w/api.php\"\n",
    "    PARAMS = {\n",
    "        \"action\": \"parse\",\n",
    "        \"page\": title,\n",
    "        \"format\": \"json\",\n",
    "        \"prop\": \"text\",\n",
    "        \"redirects\": True\n",
    "    }\n",
    "    \n",
    "    response = requests.get(URL, params=PARAMS)\n",
    "    response.raise_for_status()  # Raise an exception for HTTP errors\n",
    "    \n",
    "    data = response.json()\n",
    "    return data['parse']['text']['*']\n",
    "\n",
    "def save_html_to_file(html_content, filename):\n",
    "    with open(filename, \"w\", encoding=\"utf-8\") as file:\n",
    "        file.write(html_content)\n",
    "\n",
    "def fetch_and_save_article(title, base_dir):\n",
    "    # Fetch and save the main article\n",
    "    print(f\"Fetching article: {title}\")\n",
    "    html_content = fetch_wikipedia_html(title)\n",
    "    \n",
    "    # Use BeautifulSoup to prettify the HTML and find hyperlinks\n",
    "    soup = BeautifulSoup(html_content, \"html.parser\")\n",
    "    pretty_html = soup.prettify()\n",
    "    \n",
    "    main_filename = os.path.join(base_dir, title.replace(\" \", \"_\") + \".html\")\n",
    "    save_html_to_file(pretty_html, main_filename)\n",
    "    print(f\"Saved {title} as {main_filename}\")\n",
    "    \n",
    "    # Fetch and save each hyperlink\n",
    "    for link in soup.find_all('a', href=True):\n",
    "        href = link['href']\n",
    "        if href.startswith('/wiki/') and not ':' in href:\n",
    "            linked_title = href.split('/wiki/')[1]\n",
    "            linked_title = linked_title.replace('_', ' ')\n",
    "            # Skip identifier links\n",
    "            if any(identifier in linked_title.lower() for identifier in [\"doi\", \"pmid\", \"isbn\", \"bibcode\", \"s2cid\", \"hdl\", \"arxiv\", \"pmc\"]):\n",
    "                continue\n",
    "            try:\n",
    "                linked_html = fetch_wikipedia_html(linked_title)\n",
    "                linked_soup = BeautifulSoup(linked_html, \"html.parser\")\n",
    "                linked_pretty_html = linked_soup.prettify()\n",
    "                \n",
    "                linked_filename = os.path.join(base_dir, linked_title.replace(\" \", \"_\") + \".html\")\n",
    "                save_html_to_file(linked_pretty_html, linked_filename)\n",
    "                print(f\"Saved linked article {linked_title} as {linked_filename}\")\n",
    "            except Exception as e:\n",
    "                print(f\"Failed to fetch/save linked article {linked_title}: {e}\")\n",
    "\n",
    "# Directory to save the articles\n",
    "base_dir = \"wikiArticles\"\n",
    "if not os.path.exists(base_dir):\n",
    "    os.makedirs(base_dir)\n",
    "\n",
    "# Main article to fetch and save\n",
    "main_article = \"Temporal envelope and fine structure\"\n",
    "fetch_and_save_article(main_article, base_dir)"
   ]
  }
 ],
 "metadata": {
  "kernelspec": {
   "display_name": "base",
   "language": "python",
   "name": "python3"
  },
  "language_info": {
   "codemirror_mode": {
    "name": "ipython",
    "version": 3
   },
   "file_extension": ".py",
   "mimetype": "text/x-python",
   "name": "python",
   "nbconvert_exporter": "python",
   "pygments_lexer": "ipython3",
   "version": "3.12.2"
  }
 },
 "nbformat": 4,
 "nbformat_minor": 2
}
